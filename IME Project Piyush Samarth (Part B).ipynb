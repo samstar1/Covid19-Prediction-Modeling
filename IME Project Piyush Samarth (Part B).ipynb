{
 "cells": [
  {
   "cell_type": "markdown",
   "metadata": {},
   "source": [
    "# Part B :- Classification\n"
   ]
  },
  {
   "cell_type": "code",
   "execution_count": 1,
   "metadata": {},
   "outputs": [
    {
     "name": "stdout",
     "output_type": "stream",
     "text": [
      "unique values in sex column-  [2 1]\n",
      "unique values in patient_type column-  [1 2]\n",
      "unique values in intubed column-  [97  2  1 99]\n",
      "unique values in pneumonia column-  [ 2  1 99]\n",
      "unique values in pregnancy column-  [97  2  1 98]\n",
      "unique values in diabetes column-  [ 2  1 98]\n",
      "unique values in copd column-  [ 2  1 98]\n",
      "unique values in asthma column-  [ 2  1 98]\n",
      "unique values in inmsupr column-  [ 2  1 98]\n",
      "unique values in hypertension column-  [ 2  1 98]\n",
      "unique values in other_disease column-  [ 2  1 98]\n",
      "unique values in cardiovascular column-  [ 2  1 98]\n",
      "unique values in obesity column-  [ 2  1 98]\n",
      "unique values in renal_chronic column-  [ 2  1 98]\n",
      "unique values in tobacco column-  [ 2  1 98]\n",
      "unique values in contact_other_covid column-  [ 2 99  1]\n",
      "unique values in covid_res column-  [1 2 3]\n",
      "unique values in icu column-  [97  2  1 99]\n"
     ]
    },
    {
     "name": "stderr",
     "output_type": "stream",
     "text": [
      "C:\\Users\\aa\\Anaconda3_2020\\lib\\site-packages\\pandas\\core\\indexing.py:1717: SettingWithCopyWarning: \n",
      "A value is trying to be set on a copy of a slice from a DataFrame.\n",
      "Try using .loc[row_indexer,col_indexer] = value instead\n",
      "\n",
      "See the caveats in the documentation: https://pandas.pydata.org/pandas-docs/stable/user_guide/indexing.html#returning-a-view-versus-a-copy\n",
      "  isetter(loc, v)\n",
      "C:\\Users\\aa\\Anaconda3_2020\\lib\\site-packages\\pandas\\core\\indexing.py:1745: SettingWithCopyWarning: \n",
      "A value is trying to be set on a copy of a slice from a DataFrame.\n",
      "Try using .loc[row_indexer,col_indexer] = value instead\n",
      "\n",
      "See the caveats in the documentation: https://pandas.pydata.org/pandas-docs/stable/user_guide/indexing.html#returning-a-view-versus-a-copy\n",
      "  isetter(ilocs[0], value)\n"
     ]
    },
    {
     "data": {
      "text/html": [
       "<div>\n",
       "<style scoped>\n",
       "    .dataframe tbody tr th:only-of-type {\n",
       "        vertical-align: middle;\n",
       "    }\n",
       "\n",
       "    .dataframe tbody tr th {\n",
       "        vertical-align: top;\n",
       "    }\n",
       "\n",
       "    .dataframe thead th {\n",
       "        text-align: right;\n",
       "    }\n",
       "</style>\n",
       "<table border=\"1\" class=\"dataframe\">\n",
       "  <thead>\n",
       "    <tr style=\"text-align: right;\">\n",
       "      <th></th>\n",
       "      <th>sex</th>\n",
       "      <th>patient_type</th>\n",
       "      <th>entry_date</th>\n",
       "      <th>date_symptoms</th>\n",
       "      <th>date_died</th>\n",
       "      <th>age</th>\n",
       "      <th>intubed</th>\n",
       "      <th>pneumonia</th>\n",
       "      <th>pregnancy</th>\n",
       "      <th>diabetes</th>\n",
       "      <th>...</th>\n",
       "      <th>inmsupr</th>\n",
       "      <th>hypertension</th>\n",
       "      <th>other_disease</th>\n",
       "      <th>cardiovascular</th>\n",
       "      <th>obesity</th>\n",
       "      <th>renal_chronic</th>\n",
       "      <th>tobacco</th>\n",
       "      <th>contact_other_covid</th>\n",
       "      <th>covid_res</th>\n",
       "      <th>icu</th>\n",
       "    </tr>\n",
       "  </thead>\n",
       "  <tbody>\n",
       "    <tr>\n",
       "      <th>0</th>\n",
       "      <td>2</td>\n",
       "      <td>1</td>\n",
       "      <td>2020-04-05</td>\n",
       "      <td>2020-02-05</td>\n",
       "      <td>Not Applicable</td>\n",
       "      <td>27</td>\n",
       "      <td>NaN</td>\n",
       "      <td>No</td>\n",
       "      <td>NaN</td>\n",
       "      <td>No</td>\n",
       "      <td>...</td>\n",
       "      <td>No</td>\n",
       "      <td>No</td>\n",
       "      <td>No</td>\n",
       "      <td>No</td>\n",
       "      <td>No</td>\n",
       "      <td>No</td>\n",
       "      <td>No</td>\n",
       "      <td>No</td>\n",
       "      <td>Positive</td>\n",
       "      <td>NaN</td>\n",
       "    </tr>\n",
       "    <tr>\n",
       "      <th>1</th>\n",
       "      <td>2</td>\n",
       "      <td>1</td>\n",
       "      <td>2020-03-19</td>\n",
       "      <td>2020-03-17</td>\n",
       "      <td>Not Applicable</td>\n",
       "      <td>24</td>\n",
       "      <td>NaN</td>\n",
       "      <td>No</td>\n",
       "      <td>NaN</td>\n",
       "      <td>No</td>\n",
       "      <td>...</td>\n",
       "      <td>No</td>\n",
       "      <td>No</td>\n",
       "      <td>No</td>\n",
       "      <td>No</td>\n",
       "      <td>No</td>\n",
       "      <td>No</td>\n",
       "      <td>No</td>\n",
       "      <td>NaN</td>\n",
       "      <td>Positive</td>\n",
       "      <td>NaN</td>\n",
       "    </tr>\n",
       "    <tr>\n",
       "      <th>2</th>\n",
       "      <td>1</td>\n",
       "      <td>2</td>\n",
       "      <td>2020-06-04</td>\n",
       "      <td>2020-01-04</td>\n",
       "      <td>Not Applicable</td>\n",
       "      <td>54</td>\n",
       "      <td>No</td>\n",
       "      <td>No</td>\n",
       "      <td>No</td>\n",
       "      <td>No</td>\n",
       "      <td>...</td>\n",
       "      <td>No</td>\n",
       "      <td>No</td>\n",
       "      <td>No</td>\n",
       "      <td>No</td>\n",
       "      <td>Yes</td>\n",
       "      <td>No</td>\n",
       "      <td>No</td>\n",
       "      <td>NaN</td>\n",
       "      <td>Positive</td>\n",
       "      <td>No</td>\n",
       "    </tr>\n",
       "    <tr>\n",
       "      <th>3</th>\n",
       "      <td>2</td>\n",
       "      <td>2</td>\n",
       "      <td>2020-04-17</td>\n",
       "      <td>2020-10-04</td>\n",
       "      <td>Not Applicable</td>\n",
       "      <td>30</td>\n",
       "      <td>No</td>\n",
       "      <td>Yes</td>\n",
       "      <td>NaN</td>\n",
       "      <td>No</td>\n",
       "      <td>...</td>\n",
       "      <td>No</td>\n",
       "      <td>No</td>\n",
       "      <td>No</td>\n",
       "      <td>No</td>\n",
       "      <td>No</td>\n",
       "      <td>No</td>\n",
       "      <td>No</td>\n",
       "      <td>NaN</td>\n",
       "      <td>Positive</td>\n",
       "      <td>No</td>\n",
       "    </tr>\n",
       "    <tr>\n",
       "      <th>4</th>\n",
       "      <td>1</td>\n",
       "      <td>2</td>\n",
       "      <td>2020-04-13</td>\n",
       "      <td>2020-04-13</td>\n",
       "      <td>22-04-2020</td>\n",
       "      <td>60</td>\n",
       "      <td>No</td>\n",
       "      <td>No</td>\n",
       "      <td>No</td>\n",
       "      <td>Yes</td>\n",
       "      <td>...</td>\n",
       "      <td>No</td>\n",
       "      <td>Yes</td>\n",
       "      <td>No</td>\n",
       "      <td>Yes</td>\n",
       "      <td>No</td>\n",
       "      <td>No</td>\n",
       "      <td>No</td>\n",
       "      <td>NaN</td>\n",
       "      <td>Positive</td>\n",
       "      <td>No</td>\n",
       "    </tr>\n",
       "    <tr>\n",
       "      <th>...</th>\n",
       "      <td>...</td>\n",
       "      <td>...</td>\n",
       "      <td>...</td>\n",
       "      <td>...</td>\n",
       "      <td>...</td>\n",
       "      <td>...</td>\n",
       "      <td>...</td>\n",
       "      <td>...</td>\n",
       "      <td>...</td>\n",
       "      <td>...</td>\n",
       "      <td>...</td>\n",
       "      <td>...</td>\n",
       "      <td>...</td>\n",
       "      <td>...</td>\n",
       "      <td>...</td>\n",
       "      <td>...</td>\n",
       "      <td>...</td>\n",
       "      <td>...</td>\n",
       "      <td>...</td>\n",
       "      <td>...</td>\n",
       "      <td>...</td>\n",
       "    </tr>\n",
       "    <tr>\n",
       "      <th>499687</th>\n",
       "      <td>2</td>\n",
       "      <td>1</td>\n",
       "      <td>2020-03-26</td>\n",
       "      <td>2020-03-20</td>\n",
       "      <td>Not Applicable</td>\n",
       "      <td>77</td>\n",
       "      <td>NaN</td>\n",
       "      <td>Yes</td>\n",
       "      <td>NaN</td>\n",
       "      <td>No</td>\n",
       "      <td>...</td>\n",
       "      <td>No</td>\n",
       "      <td>No</td>\n",
       "      <td>Yes</td>\n",
       "      <td>No</td>\n",
       "      <td>No</td>\n",
       "      <td>No</td>\n",
       "      <td>Yes</td>\n",
       "      <td>No</td>\n",
       "      <td>Negative</td>\n",
       "      <td>NaN</td>\n",
       "    </tr>\n",
       "    <tr>\n",
       "      <th>499688</th>\n",
       "      <td>2</td>\n",
       "      <td>2</td>\n",
       "      <td>2020-03-28</td>\n",
       "      <td>2020-03-23</td>\n",
       "      <td>Not Applicable</td>\n",
       "      <td>63</td>\n",
       "      <td>Yes</td>\n",
       "      <td>Yes</td>\n",
       "      <td>NaN</td>\n",
       "      <td>No</td>\n",
       "      <td>...</td>\n",
       "      <td>No</td>\n",
       "      <td>Yes</td>\n",
       "      <td>No</td>\n",
       "      <td>No</td>\n",
       "      <td>Yes</td>\n",
       "      <td>No</td>\n",
       "      <td>Yes</td>\n",
       "      <td>No</td>\n",
       "      <td>Negative</td>\n",
       "      <td>No</td>\n",
       "    </tr>\n",
       "    <tr>\n",
       "      <th>499689</th>\n",
       "      <td>1</td>\n",
       "      <td>1</td>\n",
       "      <td>2020-03-16</td>\n",
       "      <td>2020-03-13</td>\n",
       "      <td>Not Applicable</td>\n",
       "      <td>25</td>\n",
       "      <td>NaN</td>\n",
       "      <td>No</td>\n",
       "      <td>No</td>\n",
       "      <td>No</td>\n",
       "      <td>...</td>\n",
       "      <td>No</td>\n",
       "      <td>No</td>\n",
       "      <td>No</td>\n",
       "      <td>No</td>\n",
       "      <td>No</td>\n",
       "      <td>No</td>\n",
       "      <td>No</td>\n",
       "      <td>No</td>\n",
       "      <td>Negative</td>\n",
       "      <td>NaN</td>\n",
       "    </tr>\n",
       "    <tr>\n",
       "      <th>499690</th>\n",
       "      <td>1</td>\n",
       "      <td>1</td>\n",
       "      <td>2020-03-27</td>\n",
       "      <td>2020-03-25</td>\n",
       "      <td>Not Applicable</td>\n",
       "      <td>45</td>\n",
       "      <td>NaN</td>\n",
       "      <td>No</td>\n",
       "      <td>No</td>\n",
       "      <td>No</td>\n",
       "      <td>...</td>\n",
       "      <td>No</td>\n",
       "      <td>Yes</td>\n",
       "      <td>No</td>\n",
       "      <td>No</td>\n",
       "      <td>No</td>\n",
       "      <td>No</td>\n",
       "      <td>No</td>\n",
       "      <td>Yes</td>\n",
       "      <td>Negative</td>\n",
       "      <td>NaN</td>\n",
       "    </tr>\n",
       "    <tr>\n",
       "      <th>499691</th>\n",
       "      <td>1</td>\n",
       "      <td>1</td>\n",
       "      <td>2020-03-31</td>\n",
       "      <td>2020-03-23</td>\n",
       "      <td>Not Applicable</td>\n",
       "      <td>51</td>\n",
       "      <td>NaN</td>\n",
       "      <td>No</td>\n",
       "      <td>No</td>\n",
       "      <td>No</td>\n",
       "      <td>...</td>\n",
       "      <td>No</td>\n",
       "      <td>No</td>\n",
       "      <td>No</td>\n",
       "      <td>No</td>\n",
       "      <td>No</td>\n",
       "      <td>No</td>\n",
       "      <td>No</td>\n",
       "      <td>NaN</td>\n",
       "      <td>Negative</td>\n",
       "      <td>NaN</td>\n",
       "    </tr>\n",
       "  </tbody>\n",
       "</table>\n",
       "<p>499692 rows × 22 columns</p>\n",
       "</div>"
      ],
      "text/plain": [
       "        sex  patient_type entry_date date_symptoms       date_died  age  \\\n",
       "0         2             1 2020-04-05    2020-02-05  Not Applicable   27   \n",
       "1         2             1 2020-03-19    2020-03-17  Not Applicable   24   \n",
       "2         1             2 2020-06-04    2020-01-04  Not Applicable   54   \n",
       "3         2             2 2020-04-17    2020-10-04  Not Applicable   30   \n",
       "4         1             2 2020-04-13    2020-04-13      22-04-2020   60   \n",
       "...     ...           ...        ...           ...             ...  ...   \n",
       "499687    2             1 2020-03-26    2020-03-20  Not Applicable   77   \n",
       "499688    2             2 2020-03-28    2020-03-23  Not Applicable   63   \n",
       "499689    1             1 2020-03-16    2020-03-13  Not Applicable   25   \n",
       "499690    1             1 2020-03-27    2020-03-25  Not Applicable   45   \n",
       "499691    1             1 2020-03-31    2020-03-23  Not Applicable   51   \n",
       "\n",
       "       intubed pneumonia pregnancy diabetes  ... inmsupr hypertension  \\\n",
       "0          NaN        No       NaN       No  ...      No           No   \n",
       "1          NaN        No       NaN       No  ...      No           No   \n",
       "2           No        No        No       No  ...      No           No   \n",
       "3           No       Yes       NaN       No  ...      No           No   \n",
       "4           No        No        No      Yes  ...      No          Yes   \n",
       "...        ...       ...       ...      ...  ...     ...          ...   \n",
       "499687     NaN       Yes       NaN       No  ...      No           No   \n",
       "499688     Yes       Yes       NaN       No  ...      No          Yes   \n",
       "499689     NaN        No        No       No  ...      No           No   \n",
       "499690     NaN        No        No       No  ...      No          Yes   \n",
       "499691     NaN        No        No       No  ...      No           No   \n",
       "\n",
       "       other_disease cardiovascular obesity renal_chronic tobacco  \\\n",
       "0                 No             No      No            No      No   \n",
       "1                 No             No      No            No      No   \n",
       "2                 No             No     Yes            No      No   \n",
       "3                 No             No      No            No      No   \n",
       "4                 No            Yes      No            No      No   \n",
       "...              ...            ...     ...           ...     ...   \n",
       "499687           Yes             No      No            No     Yes   \n",
       "499688            No             No     Yes            No     Yes   \n",
       "499689            No             No      No            No      No   \n",
       "499690            No             No      No            No      No   \n",
       "499691            No             No      No            No      No   \n",
       "\n",
       "       contact_other_covid covid_res  icu  \n",
       "0                       No  Positive  NaN  \n",
       "1                      NaN  Positive  NaN  \n",
       "2                      NaN  Positive   No  \n",
       "3                      NaN  Positive   No  \n",
       "4                      NaN  Positive   No  \n",
       "...                    ...       ...  ...  \n",
       "499687                  No  Negative  NaN  \n",
       "499688                  No  Negative   No  \n",
       "499689                  No  Negative  NaN  \n",
       "499690                 Yes  Negative  NaN  \n",
       "499691                 NaN  Negative  NaN  \n",
       "\n",
       "[499692 rows x 22 columns]"
      ]
     },
     "execution_count": 1,
     "metadata": {},
     "output_type": "execute_result"
    }
   ],
   "source": [
    "\n",
    "import numpy as np\n",
    "import pandas as pd\n",
    "import seaborn as sns\n",
    "\n",
    "import matplotlib.pyplot as plt\n",
    "\n",
    "df=pd.read_csv(r'C:\\Users\\aa\\OneDrive\\Documents\\Mechanical Engineering\\sem 1 2020-21\\IME672A\\Project/covid.csv')\n",
    "\n",
    "for i in df.columns:\n",
    "    if i in ['id','entry_date','date_symptoms','date_died','age']:\n",
    "        continue\n",
    "    else:\n",
    "        print('unique values in '+ i +' column- ',end=' ')\n",
    "        print(df[i].unique())\n",
    "\n",
    "date_cols=['entry_date','date_symptoms']\n",
    "for dates in date_cols:\n",
    "    df[dates]=pd.to_datetime(df[dates],infer_datetime_format=True)\n",
    "\n",
    "df1=df\n",
    "df['date_died'].replace('9999-99-99','Not Applicable',inplace=True)\n",
    "\n",
    "df=df[['sex', 'patient_type', 'entry_date', 'date_symptoms', 'date_died', 'age',\n",
    "       'intubed', 'pneumonia', 'pregnancy', 'diabetes', 'copd',\n",
    "       'asthma', 'inmsupr', 'hypertension', 'other_disease', 'cardiovascular',\n",
    "       'obesity', 'renal_chronic', 'tobacco', 'contact_other_covid',\n",
    "       'covid_res', 'icu']]\n",
    "\n",
    "df.iloc[:,6:]=df.iloc[:,6:].replace([97,98,99],np.nan)\n",
    "df.iloc[:,6:]=df.iloc[:,6:].replace(1,'Yes')\n",
    "df.iloc[:,6:]=df.iloc[:,6:].replace(2,'No')\n",
    "\n",
    "df.iloc[:,-2]=df.iloc[:,-2].replace('Yes','Positive')\n",
    "df.iloc[:,-2]=df.iloc[:,-2].replace('No','Negative')\n",
    "df.iloc[:,-2]=df.iloc[:,-2].replace(3,'Results awaited')\n",
    "\n",
    "df=df[df['covid_res']!='Results awaited']\n",
    "\n",
    "df"
   ]
  },
  {
   "cell_type": "code",
   "execution_count": 2,
   "metadata": {},
   "outputs": [
    {
     "data": {
      "text/plain": [
       "Index(['sex', 'patient_type', 'entry_date', 'date_symptoms', 'date_died',\n",
       "       'age', 'intubed', 'pneumonia', 'pregnancy', 'diabetes', 'copd',\n",
       "       'asthma', 'inmsupr', 'hypertension', 'other_disease', 'cardiovascular',\n",
       "       'obesity', 'renal_chronic', 'tobacco', 'contact_other_covid',\n",
       "       'covid_res', 'icu'],\n",
       "      dtype='object')"
      ]
     },
     "execution_count": 2,
     "metadata": {},
     "output_type": "execute_result"
    }
   ],
   "source": [
    "df.columns\n"
   ]
  },
  {
   "cell_type": "markdown",
   "metadata": {},
   "source": [
    "### Note:\n",
    "1. Dropping date_died column as no relation with predicting covid positive.\n",
    "2. Columns- pregnancy, intubed, contct_other_covid have more than 50% null values so dropping"
   ]
  },
  {
   "cell_type": "code",
   "execution_count": null,
   "metadata": {},
   "outputs": [],
   "source": [
    "df=df.drop(columns=['date_died','pregnancy','contact_other_covid','intubed','icu'])"
   ]
  },
  {
   "cell_type": "markdown",
   "metadata": {},
   "source": [
    "## Feature Extraction from date_symptom and entry_date"
   ]
  },
  {
   "cell_type": "code",
   "execution_count": 4,
   "metadata": {},
   "outputs": [
    {
     "data": {
      "text/plain": [
       "0          60\n",
       "1           2\n",
       "2         152\n",
       "3         170\n",
       "4           0\n",
       "         ... \n",
       "499687      6\n",
       "499688      5\n",
       "499689      3\n",
       "499690      2\n",
       "499691      8\n",
       "Name: delta, Length: 499692, dtype: int16"
      ]
     },
     "execution_count": 4,
     "metadata": {},
     "output_type": "execute_result"
    }
   ],
   "source": [
    "df['delta']=abs(df['entry_date']-df['date_symptoms'])\n",
    "df.loc[1,'delta']\n",
    "df['delta'] = df['delta'].dt.days.astype('int16')  #Converting Timedelta type to integer days\n",
    "df['delta']"
   ]
  },
  {
   "cell_type": "markdown",
   "metadata": {},
   "source": [
    "### Note:\n",
    "1. Dropping columns entry_date and date_symptoms"
   ]
  },
  {
   "cell_type": "code",
   "execution_count": 5,
   "metadata": {},
   "outputs": [],
   "source": [
    "df=df.drop(columns=['entry_date','date_symptoms'])"
   ]
  },
  {
   "cell_type": "code",
   "execution_count": 9,
   "metadata": {},
   "outputs": [
    {
     "name": "stdout",
     "output_type": "stream",
     "text": [
      "496291\n"
     ]
    },
    {
     "data": {
      "text/plain": [
       "Index(['sex', 'patient_type', 'age', 'pneumonia', 'diabetes', 'copd', 'asthma',\n",
       "       'inmsupr', 'hypertension', 'other_disease', 'cardiovascular', 'obesity',\n",
       "       'renal_chronic', 'tobacco', 'covid_res', 'delta'],\n",
       "      dtype='object')"
      ]
     },
     "execution_count": 9,
     "metadata": {},
     "output_type": "execute_result"
    }
   ],
   "source": [
    "df.columns"
   ]
  },
  {
   "cell_type": "markdown",
   "metadata": {},
   "source": [
    "### Note:\n",
    "There are few Null values present in columns that are categorical variables so we will drop Null values"
   ]
  },
  {
   "cell_type": "code",
   "execution_count": 10,
   "metadata": {},
   "outputs": [],
   "source": [
    "df=df.dropna()"
   ]
  },
  {
   "cell_type": "code",
   "execution_count": 11,
   "metadata": {},
   "outputs": [
    {
     "data": {
      "text/plain": [
       "496291"
      ]
     },
     "execution_count": 11,
     "metadata": {},
     "output_type": "execute_result"
    }
   ],
   "source": [
    "len(df)"
   ]
  },
  {
   "cell_type": "code",
   "execution_count": 12,
   "metadata": {},
   "outputs": [
    {
     "data": {
      "text/html": [
       "<div>\n",
       "<style scoped>\n",
       "    .dataframe tbody tr th:only-of-type {\n",
       "        vertical-align: middle;\n",
       "    }\n",
       "\n",
       "    .dataframe tbody tr th {\n",
       "        vertical-align: top;\n",
       "    }\n",
       "\n",
       "    .dataframe thead th {\n",
       "        text-align: right;\n",
       "    }\n",
       "</style>\n",
       "<table border=\"1\" class=\"dataframe\">\n",
       "  <thead>\n",
       "    <tr style=\"text-align: right;\">\n",
       "      <th></th>\n",
       "      <th>sex</th>\n",
       "      <th>patient_type</th>\n",
       "      <th>age</th>\n",
       "      <th>pneumonia</th>\n",
       "      <th>diabetes</th>\n",
       "      <th>copd</th>\n",
       "      <th>asthma</th>\n",
       "      <th>inmsupr</th>\n",
       "      <th>hypertension</th>\n",
       "      <th>other_disease</th>\n",
       "      <th>cardiovascular</th>\n",
       "      <th>obesity</th>\n",
       "      <th>renal_chronic</th>\n",
       "      <th>tobacco</th>\n",
       "      <th>covid_res</th>\n",
       "      <th>delta</th>\n",
       "    </tr>\n",
       "  </thead>\n",
       "  <tbody>\n",
       "    <tr>\n",
       "      <th>0</th>\n",
       "      <td>2</td>\n",
       "      <td>1</td>\n",
       "      <td>27</td>\n",
       "      <td>No</td>\n",
       "      <td>No</td>\n",
       "      <td>No</td>\n",
       "      <td>No</td>\n",
       "      <td>No</td>\n",
       "      <td>No</td>\n",
       "      <td>No</td>\n",
       "      <td>No</td>\n",
       "      <td>No</td>\n",
       "      <td>No</td>\n",
       "      <td>No</td>\n",
       "      <td>Positive</td>\n",
       "      <td>60</td>\n",
       "    </tr>\n",
       "    <tr>\n",
       "      <th>1</th>\n",
       "      <td>2</td>\n",
       "      <td>1</td>\n",
       "      <td>24</td>\n",
       "      <td>No</td>\n",
       "      <td>No</td>\n",
       "      <td>No</td>\n",
       "      <td>No</td>\n",
       "      <td>No</td>\n",
       "      <td>No</td>\n",
       "      <td>No</td>\n",
       "      <td>No</td>\n",
       "      <td>No</td>\n",
       "      <td>No</td>\n",
       "      <td>No</td>\n",
       "      <td>Positive</td>\n",
       "      <td>2</td>\n",
       "    </tr>\n",
       "    <tr>\n",
       "      <th>2</th>\n",
       "      <td>1</td>\n",
       "      <td>2</td>\n",
       "      <td>54</td>\n",
       "      <td>No</td>\n",
       "      <td>No</td>\n",
       "      <td>No</td>\n",
       "      <td>No</td>\n",
       "      <td>No</td>\n",
       "      <td>No</td>\n",
       "      <td>No</td>\n",
       "      <td>No</td>\n",
       "      <td>Yes</td>\n",
       "      <td>No</td>\n",
       "      <td>No</td>\n",
       "      <td>Positive</td>\n",
       "      <td>152</td>\n",
       "    </tr>\n",
       "    <tr>\n",
       "      <th>3</th>\n",
       "      <td>2</td>\n",
       "      <td>2</td>\n",
       "      <td>30</td>\n",
       "      <td>Yes</td>\n",
       "      <td>No</td>\n",
       "      <td>No</td>\n",
       "      <td>No</td>\n",
       "      <td>No</td>\n",
       "      <td>No</td>\n",
       "      <td>No</td>\n",
       "      <td>No</td>\n",
       "      <td>No</td>\n",
       "      <td>No</td>\n",
       "      <td>No</td>\n",
       "      <td>Positive</td>\n",
       "      <td>170</td>\n",
       "    </tr>\n",
       "    <tr>\n",
       "      <th>4</th>\n",
       "      <td>1</td>\n",
       "      <td>2</td>\n",
       "      <td>60</td>\n",
       "      <td>No</td>\n",
       "      <td>Yes</td>\n",
       "      <td>No</td>\n",
       "      <td>No</td>\n",
       "      <td>No</td>\n",
       "      <td>Yes</td>\n",
       "      <td>No</td>\n",
       "      <td>Yes</td>\n",
       "      <td>No</td>\n",
       "      <td>No</td>\n",
       "      <td>No</td>\n",
       "      <td>Positive</td>\n",
       "      <td>0</td>\n",
       "    </tr>\n",
       "    <tr>\n",
       "      <th>...</th>\n",
       "      <td>...</td>\n",
       "      <td>...</td>\n",
       "      <td>...</td>\n",
       "      <td>...</td>\n",
       "      <td>...</td>\n",
       "      <td>...</td>\n",
       "      <td>...</td>\n",
       "      <td>...</td>\n",
       "      <td>...</td>\n",
       "      <td>...</td>\n",
       "      <td>...</td>\n",
       "      <td>...</td>\n",
       "      <td>...</td>\n",
       "      <td>...</td>\n",
       "      <td>...</td>\n",
       "      <td>...</td>\n",
       "    </tr>\n",
       "    <tr>\n",
       "      <th>499687</th>\n",
       "      <td>2</td>\n",
       "      <td>1</td>\n",
       "      <td>77</td>\n",
       "      <td>Yes</td>\n",
       "      <td>No</td>\n",
       "      <td>No</td>\n",
       "      <td>No</td>\n",
       "      <td>No</td>\n",
       "      <td>No</td>\n",
       "      <td>Yes</td>\n",
       "      <td>No</td>\n",
       "      <td>No</td>\n",
       "      <td>No</td>\n",
       "      <td>Yes</td>\n",
       "      <td>Negative</td>\n",
       "      <td>6</td>\n",
       "    </tr>\n",
       "    <tr>\n",
       "      <th>499688</th>\n",
       "      <td>2</td>\n",
       "      <td>2</td>\n",
       "      <td>63</td>\n",
       "      <td>Yes</td>\n",
       "      <td>No</td>\n",
       "      <td>No</td>\n",
       "      <td>No</td>\n",
       "      <td>No</td>\n",
       "      <td>Yes</td>\n",
       "      <td>No</td>\n",
       "      <td>No</td>\n",
       "      <td>Yes</td>\n",
       "      <td>No</td>\n",
       "      <td>Yes</td>\n",
       "      <td>Negative</td>\n",
       "      <td>5</td>\n",
       "    </tr>\n",
       "    <tr>\n",
       "      <th>499689</th>\n",
       "      <td>1</td>\n",
       "      <td>1</td>\n",
       "      <td>25</td>\n",
       "      <td>No</td>\n",
       "      <td>No</td>\n",
       "      <td>No</td>\n",
       "      <td>No</td>\n",
       "      <td>No</td>\n",
       "      <td>No</td>\n",
       "      <td>No</td>\n",
       "      <td>No</td>\n",
       "      <td>No</td>\n",
       "      <td>No</td>\n",
       "      <td>No</td>\n",
       "      <td>Negative</td>\n",
       "      <td>3</td>\n",
       "    </tr>\n",
       "    <tr>\n",
       "      <th>499690</th>\n",
       "      <td>1</td>\n",
       "      <td>1</td>\n",
       "      <td>45</td>\n",
       "      <td>No</td>\n",
       "      <td>No</td>\n",
       "      <td>No</td>\n",
       "      <td>No</td>\n",
       "      <td>No</td>\n",
       "      <td>Yes</td>\n",
       "      <td>No</td>\n",
       "      <td>No</td>\n",
       "      <td>No</td>\n",
       "      <td>No</td>\n",
       "      <td>No</td>\n",
       "      <td>Negative</td>\n",
       "      <td>2</td>\n",
       "    </tr>\n",
       "    <tr>\n",
       "      <th>499691</th>\n",
       "      <td>1</td>\n",
       "      <td>1</td>\n",
       "      <td>51</td>\n",
       "      <td>No</td>\n",
       "      <td>No</td>\n",
       "      <td>No</td>\n",
       "      <td>No</td>\n",
       "      <td>No</td>\n",
       "      <td>No</td>\n",
       "      <td>No</td>\n",
       "      <td>No</td>\n",
       "      <td>No</td>\n",
       "      <td>No</td>\n",
       "      <td>No</td>\n",
       "      <td>Negative</td>\n",
       "      <td>8</td>\n",
       "    </tr>\n",
       "  </tbody>\n",
       "</table>\n",
       "<p>496291 rows × 16 columns</p>\n",
       "</div>"
      ],
      "text/plain": [
       "        sex  patient_type  age pneumonia diabetes copd asthma inmsupr  \\\n",
       "0         2             1   27        No       No   No     No      No   \n",
       "1         2             1   24        No       No   No     No      No   \n",
       "2         1             2   54        No       No   No     No      No   \n",
       "3         2             2   30       Yes       No   No     No      No   \n",
       "4         1             2   60        No      Yes   No     No      No   \n",
       "...     ...           ...  ...       ...      ...  ...    ...     ...   \n",
       "499687    2             1   77       Yes       No   No     No      No   \n",
       "499688    2             2   63       Yes       No   No     No      No   \n",
       "499689    1             1   25        No       No   No     No      No   \n",
       "499690    1             1   45        No       No   No     No      No   \n",
       "499691    1             1   51        No       No   No     No      No   \n",
       "\n",
       "       hypertension other_disease cardiovascular obesity renal_chronic  \\\n",
       "0                No            No             No      No            No   \n",
       "1                No            No             No      No            No   \n",
       "2                No            No             No     Yes            No   \n",
       "3                No            No             No      No            No   \n",
       "4               Yes            No            Yes      No            No   \n",
       "...             ...           ...            ...     ...           ...   \n",
       "499687           No           Yes             No      No            No   \n",
       "499688          Yes            No             No     Yes            No   \n",
       "499689           No            No             No      No            No   \n",
       "499690          Yes            No             No      No            No   \n",
       "499691           No            No             No      No            No   \n",
       "\n",
       "       tobacco covid_res  delta  \n",
       "0           No  Positive     60  \n",
       "1           No  Positive      2  \n",
       "2           No  Positive    152  \n",
       "3           No  Positive    170  \n",
       "4           No  Positive      0  \n",
       "...        ...       ...    ...  \n",
       "499687     Yes  Negative      6  \n",
       "499688     Yes  Negative      5  \n",
       "499689      No  Negative      3  \n",
       "499690      No  Negative      2  \n",
       "499691      No  Negative      8  \n",
       "\n",
       "[496291 rows x 16 columns]"
      ]
     },
     "execution_count": 12,
     "metadata": {},
     "output_type": "execute_result"
    }
   ],
   "source": [
    "df"
   ]
  },
  {
   "cell_type": "code",
   "execution_count": 13,
   "metadata": {},
   "outputs": [],
   "source": [
    "from sklearn.preprocessing import OrdinalEncoder\n",
    "oe = OrdinalEncoder()"
   ]
  },
  {
   "cell_type": "code",
   "execution_count": 58,
   "metadata": {},
   "outputs": [
    {
     "data": {
      "text/html": [
       "<div>\n",
       "<style scoped>\n",
       "    .dataframe tbody tr th:only-of-type {\n",
       "        vertical-align: middle;\n",
       "    }\n",
       "\n",
       "    .dataframe tbody tr th {\n",
       "        vertical-align: top;\n",
       "    }\n",
       "\n",
       "    .dataframe thead th {\n",
       "        text-align: right;\n",
       "    }\n",
       "</style>\n",
       "<table border=\"1\" class=\"dataframe\">\n",
       "  <thead>\n",
       "    <tr style=\"text-align: right;\">\n",
       "      <th></th>\n",
       "      <th>sex</th>\n",
       "      <th>patient_type</th>\n",
       "      <th>pneumonia</th>\n",
       "      <th>diabetes</th>\n",
       "      <th>copd</th>\n",
       "      <th>asthma</th>\n",
       "      <th>inmsupr</th>\n",
       "      <th>hypertension</th>\n",
       "      <th>other_disease</th>\n",
       "      <th>cardiovascular</th>\n",
       "      <th>obesity</th>\n",
       "      <th>renal_chronic</th>\n",
       "      <th>tobacco</th>\n",
       "    </tr>\n",
       "  </thead>\n",
       "  <tbody>\n",
       "    <tr>\n",
       "      <th>0</th>\n",
       "      <td>2</td>\n",
       "      <td>1</td>\n",
       "      <td>No</td>\n",
       "      <td>No</td>\n",
       "      <td>No</td>\n",
       "      <td>No</td>\n",
       "      <td>No</td>\n",
       "      <td>No</td>\n",
       "      <td>No</td>\n",
       "      <td>No</td>\n",
       "      <td>No</td>\n",
       "      <td>No</td>\n",
       "      <td>No</td>\n",
       "    </tr>\n",
       "    <tr>\n",
       "      <th>1</th>\n",
       "      <td>2</td>\n",
       "      <td>1</td>\n",
       "      <td>No</td>\n",
       "      <td>No</td>\n",
       "      <td>No</td>\n",
       "      <td>No</td>\n",
       "      <td>No</td>\n",
       "      <td>No</td>\n",
       "      <td>No</td>\n",
       "      <td>No</td>\n",
       "      <td>No</td>\n",
       "      <td>No</td>\n",
       "      <td>No</td>\n",
       "    </tr>\n",
       "    <tr>\n",
       "      <th>2</th>\n",
       "      <td>1</td>\n",
       "      <td>2</td>\n",
       "      <td>No</td>\n",
       "      <td>No</td>\n",
       "      <td>No</td>\n",
       "      <td>No</td>\n",
       "      <td>No</td>\n",
       "      <td>No</td>\n",
       "      <td>No</td>\n",
       "      <td>No</td>\n",
       "      <td>Yes</td>\n",
       "      <td>No</td>\n",
       "      <td>No</td>\n",
       "    </tr>\n",
       "    <tr>\n",
       "      <th>3</th>\n",
       "      <td>2</td>\n",
       "      <td>2</td>\n",
       "      <td>Yes</td>\n",
       "      <td>No</td>\n",
       "      <td>No</td>\n",
       "      <td>No</td>\n",
       "      <td>No</td>\n",
       "      <td>No</td>\n",
       "      <td>No</td>\n",
       "      <td>No</td>\n",
       "      <td>No</td>\n",
       "      <td>No</td>\n",
       "      <td>No</td>\n",
       "    </tr>\n",
       "    <tr>\n",
       "      <th>4</th>\n",
       "      <td>1</td>\n",
       "      <td>2</td>\n",
       "      <td>No</td>\n",
       "      <td>Yes</td>\n",
       "      <td>No</td>\n",
       "      <td>No</td>\n",
       "      <td>No</td>\n",
       "      <td>Yes</td>\n",
       "      <td>No</td>\n",
       "      <td>Yes</td>\n",
       "      <td>No</td>\n",
       "      <td>No</td>\n",
       "      <td>No</td>\n",
       "    </tr>\n",
       "    <tr>\n",
       "      <th>...</th>\n",
       "      <td>...</td>\n",
       "      <td>...</td>\n",
       "      <td>...</td>\n",
       "      <td>...</td>\n",
       "      <td>...</td>\n",
       "      <td>...</td>\n",
       "      <td>...</td>\n",
       "      <td>...</td>\n",
       "      <td>...</td>\n",
       "      <td>...</td>\n",
       "      <td>...</td>\n",
       "      <td>...</td>\n",
       "      <td>...</td>\n",
       "    </tr>\n",
       "    <tr>\n",
       "      <th>499687</th>\n",
       "      <td>2</td>\n",
       "      <td>1</td>\n",
       "      <td>Yes</td>\n",
       "      <td>No</td>\n",
       "      <td>No</td>\n",
       "      <td>No</td>\n",
       "      <td>No</td>\n",
       "      <td>No</td>\n",
       "      <td>Yes</td>\n",
       "      <td>No</td>\n",
       "      <td>No</td>\n",
       "      <td>No</td>\n",
       "      <td>Yes</td>\n",
       "    </tr>\n",
       "    <tr>\n",
       "      <th>499688</th>\n",
       "      <td>2</td>\n",
       "      <td>2</td>\n",
       "      <td>Yes</td>\n",
       "      <td>No</td>\n",
       "      <td>No</td>\n",
       "      <td>No</td>\n",
       "      <td>No</td>\n",
       "      <td>Yes</td>\n",
       "      <td>No</td>\n",
       "      <td>No</td>\n",
       "      <td>Yes</td>\n",
       "      <td>No</td>\n",
       "      <td>Yes</td>\n",
       "    </tr>\n",
       "    <tr>\n",
       "      <th>499689</th>\n",
       "      <td>1</td>\n",
       "      <td>1</td>\n",
       "      <td>No</td>\n",
       "      <td>No</td>\n",
       "      <td>No</td>\n",
       "      <td>No</td>\n",
       "      <td>No</td>\n",
       "      <td>No</td>\n",
       "      <td>No</td>\n",
       "      <td>No</td>\n",
       "      <td>No</td>\n",
       "      <td>No</td>\n",
       "      <td>No</td>\n",
       "    </tr>\n",
       "    <tr>\n",
       "      <th>499690</th>\n",
       "      <td>1</td>\n",
       "      <td>1</td>\n",
       "      <td>No</td>\n",
       "      <td>No</td>\n",
       "      <td>No</td>\n",
       "      <td>No</td>\n",
       "      <td>No</td>\n",
       "      <td>Yes</td>\n",
       "      <td>No</td>\n",
       "      <td>No</td>\n",
       "      <td>No</td>\n",
       "      <td>No</td>\n",
       "      <td>No</td>\n",
       "    </tr>\n",
       "    <tr>\n",
       "      <th>499691</th>\n",
       "      <td>1</td>\n",
       "      <td>1</td>\n",
       "      <td>No</td>\n",
       "      <td>No</td>\n",
       "      <td>No</td>\n",
       "      <td>No</td>\n",
       "      <td>No</td>\n",
       "      <td>No</td>\n",
       "      <td>No</td>\n",
       "      <td>No</td>\n",
       "      <td>No</td>\n",
       "      <td>No</td>\n",
       "      <td>No</td>\n",
       "    </tr>\n",
       "  </tbody>\n",
       "</table>\n",
       "<p>496291 rows × 13 columns</p>\n",
       "</div>"
      ],
      "text/plain": [
       "        sex  patient_type pneumonia diabetes copd asthma inmsupr hypertension  \\\n",
       "0         2             1        No       No   No     No      No           No   \n",
       "1         2             1        No       No   No     No      No           No   \n",
       "2         1             2        No       No   No     No      No           No   \n",
       "3         2             2       Yes       No   No     No      No           No   \n",
       "4         1             2        No      Yes   No     No      No          Yes   \n",
       "...     ...           ...       ...      ...  ...    ...     ...          ...   \n",
       "499687    2             1       Yes       No   No     No      No           No   \n",
       "499688    2             2       Yes       No   No     No      No          Yes   \n",
       "499689    1             1        No       No   No     No      No           No   \n",
       "499690    1             1        No       No   No     No      No          Yes   \n",
       "499691    1             1        No       No   No     No      No           No   \n",
       "\n",
       "       other_disease cardiovascular obesity renal_chronic tobacco  \n",
       "0                 No             No      No            No      No  \n",
       "1                 No             No      No            No      No  \n",
       "2                 No             No     Yes            No      No  \n",
       "3                 No             No      No            No      No  \n",
       "4                 No            Yes      No            No      No  \n",
       "...              ...            ...     ...           ...     ...  \n",
       "499687           Yes             No      No            No     Yes  \n",
       "499688            No             No     Yes            No     Yes  \n",
       "499689            No             No      No            No      No  \n",
       "499690            No             No      No            No      No  \n",
       "499691            No             No      No            No      No  \n",
       "\n",
       "[496291 rows x 13 columns]"
      ]
     },
     "execution_count": 58,
     "metadata": {},
     "output_type": "execute_result"
    }
   ],
   "source": [
    "X_=df[['sex', 'patient_type', 'pneumonia', 'diabetes', 'copd', 'asthma',\n",
    "       'inmsupr', 'hypertension', 'other_disease', 'cardiovascular', 'obesity',\n",
    "       'renal_chronic', 'tobacco']]\n",
    "X_"
   ]
  },
  {
   "cell_type": "code",
   "execution_count": 61,
   "metadata": {},
   "outputs": [],
   "source": [
    "oe.fit(X_)\n",
    "X_=oe.transform(X_)\n",
    "#X_"
   ]
  },
  {
   "cell_type": "code",
   "execution_count": 62,
   "metadata": {},
   "outputs": [
    {
     "data": {
      "text/plain": [
       "array([[1., 0., 0., ..., 0., 0., 0.],\n",
       "       [1., 0., 0., ..., 0., 0., 0.],\n",
       "       [0., 1., 0., ..., 1., 0., 0.],\n",
       "       ...,\n",
       "       [0., 0., 0., ..., 0., 0., 0.],\n",
       "       [0., 0., 0., ..., 0., 0., 0.],\n",
       "       [0., 0., 0., ..., 0., 0., 0.]])"
      ]
     },
     "execution_count": 62,
     "metadata": {},
     "output_type": "execute_result"
    }
   ],
   "source": [
    "X_"
   ]
  },
  {
   "cell_type": "code",
   "execution_count": 63,
   "metadata": {},
   "outputs": [
    {
     "data": {
      "text/plain": [
       "array([[ 60,  27],\n",
       "       [  2,  24],\n",
       "       [152,  54],\n",
       "       ...,\n",
       "       [  3,  25],\n",
       "       [  2,  45],\n",
       "       [  8,  51]], dtype=int64)"
      ]
     },
     "execution_count": 63,
     "metadata": {},
     "output_type": "execute_result"
    }
   ],
   "source": [
    "import numpy as np\n",
    "arr=np.array(df[['delta','age']])\n",
    "arr"
   ]
  },
  {
   "cell_type": "code",
   "execution_count": 64,
   "metadata": {},
   "outputs": [
    {
     "data": {
      "text/plain": [
       "array([[ 60.,  27.,   1., ...,   0.,   0.,   0.],\n",
       "       [  2.,  24.,   1., ...,   0.,   0.,   0.],\n",
       "       [152.,  54.,   0., ...,   1.,   0.,   0.],\n",
       "       ...,\n",
       "       [  3.,  25.,   0., ...,   0.,   0.,   0.],\n",
       "       [  2.,  45.,   0., ...,   0.,   0.,   0.],\n",
       "       [  8.,  51.,   0., ...,   0.,   0.,   0.]])"
      ]
     },
     "execution_count": 64,
     "metadata": {},
     "output_type": "execute_result"
    }
   ],
   "source": [
    "arr_=arr.reshape(496291,2)\n",
    "X=np.append(arr_,X_,axis=1)\n",
    "X"
   ]
  },
  {
   "cell_type": "code",
   "execution_count": 125,
   "metadata": {},
   "outputs": [
    {
     "name": "stdout",
     "output_type": "stream",
     "text": [
      "<class 'numpy.ndarray'>\n"
     ]
    },
    {
     "data": {
      "text/plain": [
       "array([[1.],\n",
       "       [1.],\n",
       "       [1.],\n",
       "       ...,\n",
       "       [0.],\n",
       "       [0.],\n",
       "       [0.]])"
      ]
     },
     "execution_count": 125,
     "metadata": {},
     "output_type": "execute_result"
    }
   ],
   "source": [
    "y=np.array(df['covid_res'])\n",
    "y=y.reshape(-1,1)\n",
    "oe.fit(y)\n",
    "y=oe.transform(y)\n",
    "# y.reshape(496291,1)\n",
    "print(type(y))\n",
    "y"
   ]
  },
  {
   "cell_type": "code",
   "execution_count": 20,
   "metadata": {},
   "outputs": [
    {
     "data": {
      "text/plain": [
       "array([[ 60.,  27.,   1., ...,   0.,   0.,   0.],\n",
       "       [  2.,  24.,   1., ...,   0.,   0.,   0.],\n",
       "       [152.,  54.,   0., ...,   1.,   0.,   0.],\n",
       "       ...,\n",
       "       [  3.,  25.,   0., ...,   0.,   0.,   0.],\n",
       "       [  2.,  45.,   0., ...,   0.,   0.,   0.],\n",
       "       [  8.,  51.,   0., ...,   0.,   0.,   0.]])"
      ]
     },
     "execution_count": 20,
     "metadata": {},
     "output_type": "execute_result"
    }
   ],
   "source": [
    "X"
   ]
  },
  {
   "cell_type": "markdown",
   "metadata": {},
   "source": [
    "### Standard Scalar\n",
    "Standardizes data such that mean = 0 and standard deviation = 1"
   ]
  },
  {
   "cell_type": "code",
   "execution_count": 76,
   "metadata": {},
   "outputs": [],
   "source": [
    "from sklearn.preprocessing import StandardScaler\n",
    "scaler = StandardScaler()\n",
    "scaler.fit(X)\n",
    "X=scaler.transform(X)\n"
   ]
  },
  {
   "cell_type": "code",
   "execution_count": 88,
   "metadata": {},
   "outputs": [
    {
     "name": "stdout",
     "output_type": "stream",
     "text": [
      "0.9999999999999966\n",
      "(496291, 15)\n"
     ]
    },
    {
     "data": {
      "text/plain": [
       "array([[ 0.17063051, -0.93319815,  0.98814779, ..., -0.44280035,\n",
       "        -0.14290986, -0.3068147 ],\n",
       "       [-0.71338558, -1.11366638,  0.98814779, ..., -0.44280035,\n",
       "        -0.14290986, -0.3068147 ],\n",
       "       [ 1.57286293,  0.69101592, -1.01199437, ...,  2.25835415,\n",
       "        -0.14290986, -0.3068147 ],\n",
       "       ...,\n",
       "       [-0.69814393, -1.0535103 , -1.01199437, ..., -0.44280035,\n",
       "        -0.14290986, -0.3068147 ],\n",
       "       [-0.71338558,  0.14961123, -1.01199437, ..., -0.44280035,\n",
       "        -0.14290986, -0.3068147 ],\n",
       "       [-0.62193564,  0.51054769, -1.01199437, ..., -0.44280035,\n",
       "        -0.14290986, -0.3068147 ]])"
      ]
     },
     "execution_count": 88,
     "metadata": {},
     "output_type": "execute_result"
    }
   ],
   "source": [
    "print(X.std())\n",
    "print(X.shape)\n",
    "X"
   ]
  },
  {
   "cell_type": "code",
   "execution_count": 89,
   "metadata": {},
   "outputs": [],
   "source": [
    "from sklearn.model_selection import train_test_split\n",
    "#Split into train and test set\n",
    "X_train, X_test, y_train, y_test = train_test_split(X, y, test_size=0.33, random_state=42)"
   ]
  },
  {
   "cell_type": "code",
   "execution_count": 90,
   "metadata": {},
   "outputs": [
    {
     "data": {
      "text/plain": [
       "array([[ 2.06059595, -0.39179346, -1.01199437, ..., -0.44280035,\n",
       "        -0.14290986, -0.3068147 ],\n",
       "       [-0.7438689 , -0.45194954, -1.01199437, ..., -0.44280035,\n",
       "        -0.14290986, -0.3068147 ],\n",
       "       [-0.6371773 ,  1.41288883, -1.01199437, ..., -0.44280035,\n",
       "        -0.14290986, -0.3068147 ],\n",
       "       ...,\n",
       "       [ 1.58810459, -0.51210561, -1.01199437, ...,  2.25835415,\n",
       "        -0.14290986, -0.3068147 ],\n",
       "       [ 0.65836353,  1.47304491, -1.01199437, ..., -0.44280035,\n",
       "        -0.14290986, -0.3068147 ],\n",
       "       [-0.27137754, -0.57226169, -1.01199437, ..., -0.44280035,\n",
       "        -0.14290986, -0.3068147 ]])"
      ]
     },
     "execution_count": 90,
     "metadata": {},
     "output_type": "execute_result"
    }
   ],
   "source": [
    "X_test"
   ]
  },
  {
   "cell_type": "markdown",
   "metadata": {},
   "source": [
    "# Classification\n",
    "### Importing Important parameters"
   ]
  },
  {
   "cell_type": "code",
   "execution_count": 91,
   "metadata": {},
   "outputs": [],
   "source": [
    "from sklearn.metrics import accuracy_score\n",
    "from sklearn.metrics import recall_score\n",
    "from sklearn.metrics import precision_score\n",
    "from sklearn.metrics import f1_score\n",
    "from sklearn.metrics import confusion_matrix"
   ]
  },
  {
   "cell_type": "markdown",
   "metadata": {},
   "source": [
    "## 1. Logistic Regression"
   ]
  },
  {
   "cell_type": "code",
   "execution_count": 93,
   "metadata": {},
   "outputs": [
    {
     "name": "stderr",
     "output_type": "stream",
     "text": [
      "C:\\Users\\aa\\Anaconda3_2020\\lib\\site-packages\\sklearn\\utils\\validation.py:72: DataConversionWarning: A column-vector y was passed when a 1d array was expected. Please change the shape of y to (n_samples, ), for example using ravel().\n",
      "  return f(**kwargs)\n"
     ]
    },
    {
     "data": {
      "text/plain": [
       "LogisticRegression()"
      ]
     },
     "execution_count": 93,
     "metadata": {},
     "output_type": "execute_result"
    }
   ],
   "source": [
    "from sklearn.linear_model import LogisticRegression\n",
    "lr = LogisticRegression()\n",
    "lr.fit(X_train,y_train)"
   ]
  },
  {
   "cell_type": "code",
   "execution_count": 114,
   "metadata": {},
   "outputs": [],
   "source": [
    "#lr.score(X_train,y_train)  # predicts overall accuracy using Rsquare metrix "
   ]
  },
  {
   "cell_type": "code",
   "execution_count": 113,
   "metadata": {},
   "outputs": [
    {
     "name": "stdout",
     "output_type": "stream",
     "text": [
      "Train accuracy:- \t 37.28\n",
      "Test accuracy:- \t 63.2\n",
      "Recall:- \t 64.45\n",
      "Precision:- \t 37.25\n",
      "F1 score:- \t 47.21\n"
     ]
    }
   ],
   "source": [
    "y_test_pred = lr.predict(X_test)\n",
    "y_train_pred = lr.predict(X_train)\n",
    "print(\"Train accuracy:- \\t\",round(precision_score(y_train_pred,y_train)*100,2))\n",
    "print(\"Test accuracy:- \\t\",round(accuracy_score(y_test_pred,y_test)*100,2))\n",
    "print(\"Recall:- \\t\",round(recall_score(y_test_pred,y_test)*100,2))\n",
    "print(\"Precision:- \\t\",round(precision_score(y_test_pred,y_test)*100,2))\n",
    "print('F1 score:- \\t',round(f1_score(y_test,y_test_pred)*100,2))\n"
   ]
  },
  {
   "cell_type": "code",
   "execution_count": 155,
   "metadata": {},
   "outputs": [
    {
     "data": {
      "text/plain": [
       "array([[76550, 45404],\n",
       "       [14870, 26953]], dtype=int64)"
      ]
     },
     "execution_count": 155,
     "metadata": {},
     "output_type": "execute_result"
    }
   ],
   "source": [
    "confusion_matrix(y_test_pred,y_test)"
   ]
  },
  {
   "cell_type": "markdown",
   "metadata": {},
   "source": [
    "## 2. Decision Trees"
   ]
  },
  {
   "cell_type": "code",
   "execution_count": 156,
   "metadata": {},
   "outputs": [
    {
     "data": {
      "text/plain": [
       "DecisionTreeClassifier()"
      ]
     },
     "execution_count": 156,
     "metadata": {},
     "output_type": "execute_result"
    }
   ],
   "source": [
    "from sklearn import tree\n",
    "DT = tree.DecisionTreeClassifier()\n",
    "DT.fit(X_train, y_train)"
   ]
  },
  {
   "cell_type": "code",
   "execution_count": 157,
   "metadata": {},
   "outputs": [
    {
     "name": "stdout",
     "output_type": "stream",
     "text": [
      "Train accuracy:- \t 57.73\n",
      "Test accuracy:- \t 60.27\n",
      "Recall:- \t 57.48\n",
      "Precision:- \t 38.67\n",
      "F1 score:- \t 46.24\n"
     ]
    }
   ],
   "source": [
    "y_test_pred = DT.predict(X_test)\n",
    "y_train_pred = DT.predict(X_train)\n",
    "print(\"Train accuracy:- \\t\",round(precision_score(y_train_pred,y_train)*100,2))\n",
    "print(\"Test accuracy:- \\t\",round(accuracy_score(y_test_pred,y_test)*100,2))\n",
    "print(\"Recall:- \\t\",round(recall_score(y_test_pred,y_test)*100,2))\n",
    "print(\"Precision:- \\t\",round(precision_score(y_test_pred,y_test)*100,2))\n",
    "print('F1 score:- \\t',round(f1_score(y_test,y_test_pred)*100,2))"
   ]
  },
  {
   "cell_type": "code",
   "execution_count": 158,
   "metadata": {},
   "outputs": [
    {
     "data": {
      "text/plain": [
       "array([[70724, 44376],\n",
       "       [20696, 27981]], dtype=int64)"
      ]
     },
     "execution_count": 158,
     "metadata": {},
     "output_type": "execute_result"
    }
   ],
   "source": [
    "confusion_matrix(y_test_pred,y_test)"
   ]
  },
  {
   "cell_type": "markdown",
   "metadata": {},
   "source": [
    "## 3. Decision Forest Classifier"
   ]
  },
  {
   "cell_type": "code",
   "execution_count": 160,
   "metadata": {},
   "outputs": [
    {
     "name": "stderr",
     "output_type": "stream",
     "text": [
      "<ipython-input-160-d7f3402c93b3>:3: DataConversionWarning: A column-vector y was passed when a 1d array was expected. Please change the shape of y to (n_samples,), for example using ravel().\n",
      "  Rf.fit(X_train, y_train)\n"
     ]
    },
    {
     "data": {
      "text/plain": [
       "RandomForestClassifier()"
      ]
     },
     "execution_count": 160,
     "metadata": {},
     "output_type": "execute_result"
    }
   ],
   "source": [
    "from sklearn.ensemble import RandomForestClassifier\n",
    "Rf = RandomForestClassifier()\n",
    "Rf.fit(X_train, y_train)"
   ]
  },
  {
   "cell_type": "code",
   "execution_count": 162,
   "metadata": {},
   "outputs": [
    {
     "name": "stdout",
     "output_type": "stream",
     "text": [
      "Train accuracy:- \t 61.88\n",
      "Test accuracy:- \t 60.97\n",
      "Recall:- \t 57.68\n",
      "Precision:- \t 43.77\n",
      "F1 score:- \t 49.77\n"
     ]
    },
    {
     "data": {
      "text/plain": [
       "array([[68185, 23235],\n",
       "       [40688, 31669]], dtype=int64)"
      ]
     },
     "execution_count": 162,
     "metadata": {},
     "output_type": "execute_result"
    }
   ],
   "source": [
    "y_test_pred = Rf.predict(X_test)\n",
    "y_train_pred = Rf.predict(X_train)\n",
    "print(\"Train accuracy:- \\t\",round(precision_score(y_train_pred,y_train)*100,2))\n",
    "print(\"Test accuracy:- \\t\",round(accuracy_score(y_test_pred,y_test)*100,2))\n",
    "print(\"Recall:- \\t\",round(recall_score(y_test_pred,y_test)*100,2))\n",
    "print(\"Precision:- \\t\",round(precision_score(y_test_pred,y_test)*100,2))\n",
    "print('F1 score:- \\t',round(f1_score(y_test,y_test_pred)*100,2))\n",
    "confusion_matrix(y_test,y_test_pred)"
   ]
  },
  {
   "cell_type": "markdown",
   "metadata": {},
   "source": [
    "Lets try all the classification with a determining probabilistic threshold"
   ]
  },
  {
   "cell_type": "markdown",
   "metadata": {},
   "source": [
    "### Following Function returns optimized threshold probability"
   ]
  },
  {
   "cell_type": "code",
   "execution_count": 92,
   "metadata": {},
   "outputs": [],
   "source": [
    "from sklearn.metrics import f1_score\n",
    "from sklearn.metrics import accuracy_score\n",
    "def opt(y_train,y_train_pred):\n",
    "    f1=0\n",
    "    thres=10\n",
    "    for threshold in range(5,90):\n",
    "        thr=threshold/100\n",
    "        pred_bool = ((y_train_pred)>thr)\n",
    "        y=np.multiply(pred_bool, 1)\n",
    "        m=recall_score(y_train,y)*accuracy_score(y_train,y)\n",
    "        if m>f1:\n",
    "            thres=thr\n",
    "            f1=m\n",
    "#             print(1)\n",
    "    pred_bool = ((y_train_pred)>thres)\n",
    "    y=np.multiply(pred_bool, 1)\n",
    "    print('Threshold: ',thres,'Recall: ',recall_score(y_train,y))\n",
    "    return y"
   ]
  },
  {
   "cell_type": "markdown",
   "metadata": {},
   "source": [
    "## 1.  Logistic Regression"
   ]
  },
  {
   "cell_type": "code",
   "execution_count": 196,
   "metadata": {},
   "outputs": [
    {
     "name": "stderr",
     "output_type": "stream",
     "text": [
      "C:\\Users\\aa\\Anaconda3_2020\\lib\\site-packages\\sklearn\\utils\\validation.py:72: DataConversionWarning: A column-vector y was passed when a 1d array was expected. Please change the shape of y to (n_samples, ), for example using ravel().\n",
      "  return f(**kwargs)\n"
     ]
    },
    {
     "name": "stdout",
     "output_type": "stream",
     "text": [
      "Threshold:  0.05 Recall:  1.0\n"
     ]
    }
   ],
   "source": [
    "from sklearn.linear_model import LogisticRegression\n",
    "clf=LogisticRegression()\n",
    "clf.fit(X_train,y_train)\n",
    "y_test_pred = clf.predict_proba(X_test)\n",
    "y_train_pred=clf.predict_proba(X_train)\n",
    "y_train_pred=y_train_pred[:,0]\n",
    "y_train_pred=opt(y_train,y_train_pred)\n"
   ]
  },
  {
   "cell_type": "code",
   "execution_count": 197,
   "metadata": {},
   "outputs": [
    {
     "data": {
      "text/plain": [
       "array([[0.59359095, 0.40640905],\n",
       "       [0.6838334 , 0.3161666 ],\n",
       "       [0.40938019, 0.59061981],\n",
       "       ...,\n",
       "       [0.53323784, 0.46676216],\n",
       "       [0.27709988, 0.72290012],\n",
       "       [0.67564453, 0.32435547]])"
      ]
     },
     "execution_count": 197,
     "metadata": {},
     "output_type": "execute_result"
    }
   ],
   "source": [
    "y_test_pred"
   ]
  },
  {
   "cell_type": "code",
   "execution_count": 198,
   "metadata": {},
   "outputs": [
    {
     "name": "stdout",
     "output_type": "stream",
     "text": [
      "Train Accuracy:- \t 0.4407182855458718\n",
      "Test Accuracy:- \t 0.44180196242451625\n",
      "Recall:- \t 1.0\n",
      "Precision:- \t 0.44180196242451625\n",
      "F1 score:- \t 0.6128469428375414\n"
     ]
    },
    {
     "data": {
      "text/plain": [
       "array([[    0,     0],\n",
       "       [91420, 72357]], dtype=int64)"
      ]
     },
     "execution_count": 198,
     "metadata": {},
     "output_type": "execute_result"
    }
   ],
   "source": [
    "pred_bool = ((y_test_pred)>0.05)\n",
    "y_test_pred=np.multiply(pred_bool, 1)[:,0]\n",
    "print(\"Train Accuracy:- \\t\",accuracy_score(y_train, y_train_pred))\n",
    "print(\"Test Accuracy:- \\t\",accuracy_score(y_test, y_test_pred))\n",
    "print('Recall:- \\t',recall_score(y_test,y_test_pred))\n",
    "print('Precision:- \\t',precision_score(y_test,y_test_pred))\n",
    "print('F1 score:- \\t',f1_score(y_test,y_test_pred))\n",
    "confusion_matrix(y_test_pred,y_test)"
   ]
  },
  {
   "cell_type": "markdown",
   "metadata": {},
   "source": [
    "## 2. Decision Trees"
   ]
  },
  {
   "cell_type": "code",
   "execution_count": 206,
   "metadata": {},
   "outputs": [],
   "source": [
    "from sklearn import tree\n",
    "clf = tree.DecisionTreeClassifier()\n",
    "clf = clf.fit(X_train, y_train)"
   ]
  },
  {
   "cell_type": "code",
   "execution_count": 203,
   "metadata": {},
   "outputs": [
    {
     "name": "stdout",
     "output_type": "stream",
     "text": [
      "Threshold:  0.05 Recall:  0.595428025521171\n"
     ]
    }
   ],
   "source": [
    "y_test_pred = clf.predict_proba(X_test)\n",
    "y_train_pred=clf.predict_proba(X_train)\n",
    "y_train_pred=y_train_pred[:,0]\n",
    "y_train_pred=opt(y_train,y_train_pred)"
   ]
  },
  {
   "cell_type": "code",
   "execution_count": 205,
   "metadata": {},
   "outputs": [
    {
     "data": {
      "text/plain": [
       "array([1, 1, 0, ..., 1, 1, 1])"
      ]
     },
     "execution_count": 205,
     "metadata": {},
     "output_type": "execute_result"
    }
   ],
   "source": [
    "y_test_pred"
   ]
  },
  {
   "cell_type": "code",
   "execution_count": 204,
   "metadata": {},
   "outputs": [
    {
     "name": "stdout",
     "output_type": "stream",
     "text": [
      "Train Accuracy:- \t 0.26241601857365404\n",
      "Test Accuracy:- \t 0.4025046251915715\n",
      "Recall:- \t 0.7390024462042373\n",
      "Precision:- \t 0.4037359467846545\n",
      "F1 score:- \t 0.5221875\n"
     ]
    },
    {
     "data": {
      "text/plain": [
       "array([[12449, 18885],\n",
       "       [78971, 53472]], dtype=int64)"
      ]
     },
     "execution_count": 204,
     "metadata": {},
     "output_type": "execute_result"
    }
   ],
   "source": [
    "pred_bool = ((y_test_pred)>0.05)\n",
    "y_test_pred=np.multiply(pred_bool, 1)[:,0]\n",
    "print(\"Train Accuracy:- \\t\",accuracy_score(y_train, y_train_pred))\n",
    "print(\"Test Accuracy:- \\t\",accuracy_score(y_test, y_test_pred))\n",
    "print('Recall:- \\t',recall_score(y_test,y_test_pred))\n",
    "print('Precision:- \\t',precision_score(y_test,y_test_pred))\n",
    "print('F1 score:- \\t',f1_score(y_test,y_test_pred))\n",
    "confusion_matrix(y_test_pred,y_test)"
   ]
  },
  {
   "cell_type": "markdown",
   "metadata": {},
   "source": [
    "## 3. Decision Forest"
   ]
  },
  {
   "cell_type": "code",
   "execution_count": 207,
   "metadata": {},
   "outputs": [
    {
     "name": "stderr",
     "output_type": "stream",
     "text": [
      "<ipython-input-207-ad55e8953be3>:3: DataConversionWarning: A column-vector y was passed when a 1d array was expected. Please change the shape of y to (n_samples,), for example using ravel().\n",
      "  clf = clf.fit(X_train, y_train)\n"
     ]
    }
   ],
   "source": [
    "from sklearn.ensemble import RandomForestClassifier\n",
    "clf = RandomForestClassifier()\n",
    "clf = clf.fit(X_train, y_train)"
   ]
  },
  {
   "cell_type": "code",
   "execution_count": 208,
   "metadata": {},
   "outputs": [
    {
     "name": "stdout",
     "output_type": "stream",
     "text": [
      "Threshold:  0.05 Recall:  0.8659046709201952\n"
     ]
    }
   ],
   "source": [
    "y_test_pred = clf.predict_proba(X_test)\n",
    "y_train_pred=clf.predict_proba(X_train)\n",
    "y_train_pred=y_train_pred[:,0]\n",
    "y_train_pred=opt(y_train,y_train_pred)"
   ]
  },
  {
   "cell_type": "code",
   "execution_count": 209,
   "metadata": {},
   "outputs": [
    {
     "data": {
      "text/plain": [
       "array([[0.64590719, 0.35409281],\n",
       "       [0.78656097, 0.21343903],\n",
       "       [0.07      , 0.93      ],\n",
       "       ...,\n",
       "       [0.55792452, 0.44207548],\n",
       "       [0.49411905, 0.50588095],\n",
       "       [0.62089381, 0.37910619]])"
      ]
     },
     "execution_count": 209,
     "metadata": {},
     "output_type": "execute_result"
    }
   ],
   "source": [
    "y_test_pred"
   ]
  },
  {
   "cell_type": "code",
   "execution_count": 210,
   "metadata": {},
   "outputs": [
    {
     "name": "stdout",
     "output_type": "stream",
     "text": [
      "Train Accuracy:- \t 0.38162002201411066\n",
      "Test Accuracy:- \t 0.4243269812000464\n",
      "Recall:- \t 0.9341736113990353\n",
      "Precision:- \t 0.43022537918568166\n",
      "F1 score:- \t 0.5891314768815097\n"
     ]
    },
    {
     "data": {
      "text/plain": [
       "array([[ 1901,  4763],\n",
       "       [89519, 67594]], dtype=int64)"
      ]
     },
     "execution_count": 210,
     "metadata": {},
     "output_type": "execute_result"
    }
   ],
   "source": [
    "pred_bool = ((y_test_pred)>0.05)\n",
    "y_test_pred=np.multiply(pred_bool, 1)[:,0]\n",
    "print(\"Train Accuracy:- \\t\",accuracy_score(y_train, y_train_pred))\n",
    "print(\"Test Accuracy:- \\t\",accuracy_score(y_test, y_test_pred))\n",
    "print('Recall:- \\t',recall_score(y_test,y_test_pred))\n",
    "print('Precision:- \\t',precision_score(y_test,y_test_pred))\n",
    "print('F1 score:- \\t',f1_score(y_test,y_test_pred))\n",
    "confusion_matrix(y_test_pred,y_test)"
   ]
  }
 ],
 "metadata": {
  "kernelspec": {
   "display_name": "Python 3",
   "language": "python",
   "name": "python3"
  },
  "language_info": {
   "codemirror_mode": {
    "name": "ipython",
    "version": 3
   },
   "file_extension": ".py",
   "mimetype": "text/x-python",
   "name": "python",
   "nbconvert_exporter": "python",
   "pygments_lexer": "ipython3",
   "version": "3.8.5"
  }
 },
 "nbformat": 4,
 "nbformat_minor": 4
}
